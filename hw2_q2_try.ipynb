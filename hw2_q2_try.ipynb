{
 "cells": [
  {
   "cell_type": "code",
   "execution_count": null,
   "metadata": {},
   "outputs": [],
   "source": [
    "# Agents of categories \"Healthy\" and \"Dead\" aren't going to meet anyone, both categories should be discarded from the meetings.\n",
    "# A \"Cure\" agent improves by one step the status of other agents, A \"Cure\" agent doesn't affect other \"Cure\" agents.\n",
    "\n",
    "# The other types of agents always worsens the conditions of other agents. \n",
    "# If two \"Dying\" agents meet they both become \"Dead\"."
   ]
  },
  {
   "cell_type": "code",
   "execution_count": 428,
   "metadata": {},
   "outputs": [],
   "source": [
    "from collections import namedtuple\n",
    "from enum import Enum\n",
    "import itertools\n",
    "\n",
    "Condition = Enum(\"Condition\", (\"CURE\", \"HEALTHY\", \"SICK\", \"DYING\", \"DEAD\"))\n",
    "Agent = namedtuple(\"Agent\", (\"name\", \"category\"))\n",
    "\n",
    "data0 = (\n",
    "    Agent(\"Adam\", Condition.SICK),\n",
    "    Agent(\"Cure0\", Condition.CURE),\n",
    "    Agent(\"Cure1\", Condition.CURE),\n",
    "    Agent(\"Bob\", Condition.HEALTHY),\n",
    "    Agent(\"Alice\", Condition.DEAD),\n",
    "    Agent(\"Charlie\", Condition.DYING),\n",
    "    Agent(\"Vaccine\", Condition.SICK),\n",
    "    Agent(\"Darlene\", Condition.DYING),\n",
    "    Agent(\"Emma\", Condition.SICK),\n",
    "    Agent(\"Cure2\", Condition.CURE),\n",
    ")\n",
    "\n",
    "def filter_agents(data):\n",
    "    filtered_agents = tuple(agent for agent in data if agent.category != Condition.HEALTHY and agent.category != Condition.DEAD)\n",
    "    return filtered_agents\n",
    "def batch_agents(data,n):\n",
    "    batched_agents = list(itertools.batched(data, n))\n",
    "    return batched_agents\n",
    "\n",
    "# def filter_batch_agents(data,n):\n",
    "#     filtered_agents = tuple(agent for agent in data if agent.category != Condition.HEALTHY and agent.category != Condition.DEAD)\n",
    "#     batched_agents = list(itertools.batched(filtered_agents, n))\n",
    "#     return batched_agents\n",
    "\n",
    "\n",
    "\n",
    "def check_category(agent_tuple):\n",
    "    categories = [agent.category for agent in agent_tuple]\n",
    "    return categories"
   ]
  },
  {
   "cell_type": "code",
   "execution_count": 429,
   "metadata": {},
   "outputs": [],
   "source": [
    "def check_category(agent_tuple):\n",
    "    categories = [agent.category for agent in agent_tuple]\n",
    "    return (agent_tuple, categories)\n",
    "\n",
    "batched_agents = batch_agents(data0, 2)\n",
    "agent_categories = check_category(batched_agents[0])\n"
   ]
  },
  {
   "cell_type": "code",
   "execution_count": 449,
   "metadata": {},
   "outputs": [
    {
     "name": "stdout",
     "output_type": "stream",
     "text": [
      "((Agent(name='Adam', category=<Condition.SICK: 3>), Agent(name='Cure0', category=<Condition.CURE: 1>)), [<Condition.SICK: 3>, <Condition.CURE: 1>])\n",
      "[<Condition.SICK: 3>, <Condition.CURE: 1>]\n",
      "(Agent(name='Adam', category=<Condition.HEALTHY: 2>), Agent(name='Cure0', category=<Condition.CURE: 1>), [<Condition.SICK: 3>, <Condition.CURE: 1>])\n"
     ]
    }
   ],
   "source": [
    "input_tuple = agent_categories\n",
    "print(input_tuple)\n",
    "print(input_tuple[1])\n",
    "\n",
    "if input_tuple[1] == [Condition.SICK, Condition.CURE]:\n",
    "    new_agent = Agent(input_tuple[0][0].name, Condition.HEALTHY)\n",
    "    new_tuple = (new_agent, input_tuple[0][1], input_tuple[1])\n",
    "print(new_tuple)\n"
   ]
  },
  {
   "cell_type": "code",
   "execution_count": null,
   "metadata": {},
   "outputs": [],
   "source": [
    "def sick_cure(agent_tuple):\n",
    "    new_agent = Agent(input_tuple[0][0].name, Condition.HEALTHY)\n",
    "    new_tuple = (new_agent, input_tuple[0][1], input_tuple[1])\n",
    "    return new_tuple\n",
    "def cure_sick(agent_tuple):\n",
    "    agent_tuple[1] = Condition.HEALTHY\n",
    "    return agent_tuple\n",
    "def cure_dying(agent_tuple):\n",
    "    agent_tuple[1] = Condition.SICK\n",
    "    return agent_tuple\n",
    "def dying_cure(agent_tuple):\n",
    "    agent_tuple[0] = Condition.SICK\n",
    "    return agent_tuple\n",
    "def sick_sick(agent_tuple):\n",
    "    agent_tuple = (Condition.DYING, Condition.DYING)\n",
    "    return agent_tuple\n",
    "def cure_cure(agent_tuple):\n",
    "    return agent_tuple\n",
    "def sick_dying(agent_tuple):\n",
    "    if agent_tuple[0] == Condition.SICK and agent_tuple[1] == Condition.DYING:\n",
    "        agent_tuple[0], agent_tuple[1] = Condition.DYING, Condition.DEAD\n",
    "        return agent_tuple\n",
    "    elif agent_tuple[0] == Condition.DYING and agent_tuple[1] == Condition.SICK:\n",
    "        agent_tuple[0], agent_tuple[1] = Condition.DEAD, Condition.DYING\n",
    "        return agent_tuple"
   ]
  },
  {
   "cell_type": "code",
   "execution_count": 426,
   "metadata": {},
   "outputs": [],
   "source": [
    "def sick_cure(agent_tuple):\n",
    "    agent_tuple[0].category = Condition.HEALTHY\n",
    "    return agent_tuple\n",
    "# def sick_cure(agent_tuple):\n",
    "#     agent_tuple[0] = Condition.HEALTHY\n",
    "#     return agent_tuple\n",
    "def cure_sick(agent_tuple):\n",
    "    agent_tuple[1] = Condition.HEALTHY\n",
    "    return agent_tuple\n",
    "def cure_dying(agent_tuple):\n",
    "    agent_tuple[1] = Condition.SICK\n",
    "    return agent_tuple\n",
    "def dying_cure(agent_tuple):\n",
    "    agent_tuple[0] = Condition.SICK\n",
    "    return agent_tuple\n",
    "def sick_sick(agent_tuple):\n",
    "    agent_tuple = (Condition.DYING, Condition.DYING)\n",
    "    return agent_tuple\n",
    "def cure_cure(agent_tuple):\n",
    "    return agent_tuple\n",
    "def sick_dying(agent_tuple):\n",
    "    if agent_tuple[0] == Condition.SICK and agent_tuple[1] == Condition.DYING:\n",
    "        agent_tuple[0], agent_tuple[1] = Condition.DYING, Condition.DEAD\n",
    "        return agent_tuple\n",
    "    elif agent_tuple[0] == Condition.DYING and agent_tuple[1] == Condition.SICK:\n",
    "        agent_tuple[0], agent_tuple[1] = Condition.DEAD, Condition.DYING\n",
    "        return agent_tuple\n"
   ]
  },
  {
   "cell_type": "code",
   "execution_count": 427,
   "metadata": {},
   "outputs": [
    {
     "name": "stdout",
     "output_type": "stream",
     "text": [
      "(Agent(name='Adam', category=<Condition.SICK: 3>), Agent(name='Cure0', category=<Condition.CURE: 1>))\n",
      "[<Condition.SICK: 3>, <Condition.CURE: 1>]\n",
      "(Agent(name='Adam', category=<Condition.SICK: 3>), Agent(name='Cure0', category=<Condition.CURE: 1>))\n"
     ]
    },
    {
     "ename": "AttributeError",
     "evalue": "can't set attribute",
     "output_type": "error",
     "traceback": [
      "\u001b[0;31m---------------------------------------------------------------------------\u001b[0m",
      "\u001b[0;31mAttributeError\u001b[0m                            Traceback (most recent call last)",
      "Cell \u001b[0;32mIn[427], line 24\u001b[0m\n\u001b[1;32m     21\u001b[0m         \u001b[38;5;28mprint\u001b[39m(\u001b[38;5;124m'\u001b[39m\u001b[38;5;124mnone\u001b[39m\u001b[38;5;124m'\u001b[39m)\n\u001b[1;32m     22\u001b[0m     \u001b[38;5;28;01mreturn\u001b[39;00m input_tuple\n\u001b[0;32m---> 24\u001b[0m \u001b[43mmodify_agents\u001b[49m\u001b[43m(\u001b[49m\u001b[43magent_categories\u001b[49m\u001b[43m)\u001b[49m\n",
      "Cell \u001b[0;32mIn[427], line 9\u001b[0m, in \u001b[0;36mmodify_agents\u001b[0;34m(input_tuple)\u001b[0m\n\u001b[1;32m      7\u001b[0m \u001b[38;5;28;01melif\u001b[39;00m input_tuple[\u001b[38;5;241m1\u001b[39m] \u001b[38;5;241m==\u001b[39m [Condition\u001b[38;5;241m.\u001b[39mSICK, Condition\u001b[38;5;241m.\u001b[39mCURE]:\n\u001b[1;32m      8\u001b[0m     \u001b[38;5;28mprint\u001b[39m(input_tuple[\u001b[38;5;241m0\u001b[39m])\n\u001b[0;32m----> 9\u001b[0m     \u001b[43msick_cure\u001b[49m\u001b[43m(\u001b[49m\u001b[43minput_tuple\u001b[49m\u001b[43m[\u001b[49m\u001b[38;5;241;43m0\u001b[39;49m\u001b[43m]\u001b[49m\u001b[43m)\u001b[49m\n\u001b[1;32m     10\u001b[0m \u001b[38;5;28;01melif\u001b[39;00m input_tuple[\u001b[38;5;241m1\u001b[39m] \u001b[38;5;241m==\u001b[39m [Condition\u001b[38;5;241m.\u001b[39mCURE, Condition\u001b[38;5;241m.\u001b[39mDYING]:\n\u001b[1;32m     11\u001b[0m     cure_dying(input_tuple[\u001b[38;5;241m1\u001b[39m])\n",
      "Cell \u001b[0;32mIn[426], line 2\u001b[0m, in \u001b[0;36msick_cure\u001b[0;34m(agent_tuple)\u001b[0m\n\u001b[1;32m      1\u001b[0m \u001b[38;5;28;01mdef\u001b[39;00m \u001b[38;5;21msick_cure\u001b[39m(agent_tuple):\n\u001b[0;32m----> 2\u001b[0m     \u001b[43magent_tuple\u001b[49m\u001b[43m[\u001b[49m\u001b[38;5;241;43m0\u001b[39;49m\u001b[43m]\u001b[49m\u001b[38;5;241;43m.\u001b[39;49m\u001b[43mcategory\u001b[49m \u001b[38;5;241m=\u001b[39m Condition\u001b[38;5;241m.\u001b[39mHEALTHY\n\u001b[1;32m      3\u001b[0m     \u001b[38;5;28;01mreturn\u001b[39;00m agent_tuple\n",
      "\u001b[0;31mAttributeError\u001b[0m: can't set attribute"
     ]
    }
   ],
   "source": [
    "def modify_agents(input_tuple):\n",
    "    # print(input_tuple)\n",
    "    print(input_tuple[0])\n",
    "    print(input_tuple[1])\n",
    "    if input_tuple[1] == [Condition.CURE, Condition.SICK]:\n",
    "        cure_sick(input_tuple[1])\n",
    "    elif input_tuple[1] == [Condition.SICK, Condition.CURE]:\n",
    "        print(input_tuple[0])\n",
    "        sick_cure(input_tuple[0])\n",
    "    elif input_tuple[1] == [Condition.CURE, Condition.DYING]:\n",
    "        cure_dying(input_tuple[1])\n",
    "    elif input_tuple[1] == [Condition.DYING, Condition.CURE]:\n",
    "        dying_cure(input_tuple[1])\n",
    "    elif input_tuple[1] == [Condition.SICK, Condition.SICK]:\n",
    "        sick_sick(input_tuple[1])\n",
    "    elif input_tuple[1] == [Condition.CURE, Condition.CURE]:\n",
    "        cure_cure(input_tuple[1])\n",
    "    elif input_tuple[1] == [Condition.SICK, Condition.DYING] or input_tuple == [Condition.DYING, Condition.SICK]:\n",
    "        sick_dying(input_tuple[1])\n",
    "    else:\n",
    "        print('none')\n",
    "    return input_tuple\n",
    "\n",
    "modify_agents(agent_categories)"
   ]
  },
  {
   "cell_type": "code",
   "execution_count": 379,
   "metadata": {},
   "outputs": [],
   "source": [
    "def modify_agents(input_tuple):\n",
    "    if input_tuple == [Condition.CURE, Condition.SICK]:\n",
    "        cure_sick(input_tuple)\n",
    "    elif input_tuple == [Condition.SICK, Condition.CURE]:\n",
    "        sick_cure(input_tuple)\n",
    "    elif input_tuple == [Condition.CURE, Condition.DYING]:\n",
    "        cure_dying(input_tuple)\n",
    "    elif input_tuple == [Condition.DYING, Condition.CURE]:\n",
    "        dying_cure(input_tuple)\n",
    "    elif input_tuple == [Condition.SICK, Condition.SICK]:\n",
    "        sick_sick(input_tuple)\n",
    "    elif input_tuple == [Condition.CURE, Condition.CURE]:\n",
    "        cure_cure(input_tuple)\n",
    "    elif input_tuple == [Condition.SICK, Condition.DYING] or input_tuple == [Condition.DYING, Condition.SICK]:\n",
    "        sick_dying(input_tuple)\n",
    "    else:\n",
    "        print('none')\n",
    "    return input_tuple"
   ]
  },
  {
   "cell_type": "code",
   "execution_count": 386,
   "metadata": {},
   "outputs": [
    {
     "name": "stdout",
     "output_type": "stream",
     "text": [
      "[<Condition.HEALTHY: 2>, <Condition.CURE: 1>, <Condition.CURE: 1>, <Condition.SICK: 3>, <Condition.DYING: 4>, <Condition.DEAD: 5>, <Condition.HEALTHY: 2>, <Condition.CURE: 1>]\n",
      "(Agent(name='Adam', category=<Condition.SICK: 3>), Agent(name='Cure0', category=<Condition.CURE: 1>), Agent(name='Cure1', category=<Condition.CURE: 1>), Agent(name='Charlie', category=<Condition.DYING: 4>), Agent(name='Vaccine', category=<Condition.SICK: 3>), Agent(name='Darlene', category=<Condition.DYING: 4>), Agent(name='Emma', category=<Condition.SICK: 3>), Agent(name='Cure2', category=<Condition.CURE: 1>))\n",
      "Agent(name='Adam', category=<Condition.SICK: 3>)\n",
      "Condition.HEALTHY\n"
     ]
    },
    {
     "ename": "AttributeError",
     "evalue": "can't set attribute",
     "output_type": "error",
     "traceback": [
      "\u001b[0;31m---------------------------------------------------------------------------\u001b[0m",
      "\u001b[0;31mAttributeError\u001b[0m                            Traceback (most recent call last)",
      "Cell \u001b[0;32mIn[386], line 18\u001b[0m\n\u001b[1;32m     16\u001b[0m     \u001b[38;5;28mprint\u001b[39m(agent)\n\u001b[1;32m     17\u001b[0m     \u001b[38;5;28mprint\u001b[39m(flat_list[i])\n\u001b[0;32m---> 18\u001b[0m     \u001b[43magent\u001b[49m\u001b[38;5;241;43m.\u001b[39;49m\u001b[43mcategory\u001b[49m \u001b[38;5;241m=\u001b[39m flat_list[i]\n\u001b[1;32m     19\u001b[0m     i \u001b[38;5;241m+\u001b[39m\u001b[38;5;241m=\u001b[39m \u001b[38;5;241m1\u001b[39m\n\u001b[1;32m     20\u001b[0m \u001b[38;5;28mprint\u001b[39m(filtered)\n",
      "\u001b[0;31mAttributeError\u001b[0m: can't set attribute"
     ]
    }
   ],
   "source": [
    "def return_modified_list(agent_list):\n",
    "    batched = filter_batch_agents(agent_list, 2)\n",
    "    modified_agents = []\n",
    "    for agent_tuple in batched:\n",
    "        modified_agents.append(modify_agents(check_category(agent_tuple)))\n",
    "    return modified_agents\n",
    "\n",
    "modified_tuples = return_modified_list(data0)\n",
    "flat_list = [agent for tuples in modified_tuples for agent in tuples]\n",
    "print(flat_list)\n",
    "\n",
    "filtered = filter_agents(data0)\n",
    "print(filtered)\n",
    "i = 0\n",
    "for agent in filtered:\n",
    "    print(agent)\n",
    "    print(flat_list[i])\n",
    "    #agent.category = flat_list[i]\n",
    "    i += 1\n",
    "print(filtered)\n"
   ]
  },
  {
   "cell_type": "code",
   "execution_count": 362,
   "metadata": {},
   "outputs": [
    {
     "name": "stdout",
     "output_type": "stream",
     "text": [
      "orig (Agent(name='Adam', category=<Condition.SICK: 3>), Agent(name='Cure0', category=<Condition.CURE: 1>))\n",
      "new [<Condition.HEALTHY: 2>, <Condition.CURE: 1>]\n",
      "orig (Agent(name='Cure1', category=<Condition.CURE: 1>), Agent(name='Charlie', category=<Condition.DYING: 4>))\n",
      "new [<Condition.CURE: 1>, <Condition.SICK: 3>]\n",
      "orig (Agent(name='Vaccine', category=<Condition.SICK: 3>), Agent(name='Darlene', category=<Condition.DYING: 4>))\n",
      "new [<Condition.DYING: 4>, <Condition.DEAD: 5>]\n",
      "orig (Agent(name='Emma', category=<Condition.SICK: 3>), Agent(name='Cure2', category=<Condition.CURE: 1>))\n",
      "new [<Condition.HEALTHY: 2>, <Condition.CURE: 1>]\n"
     ]
    }
   ],
   "source": [
    "batched = filter_batch_agents(data0, 2)\n",
    "for agent_tuple in batched:\n",
    "    print('orig', agent_tuple)\n",
    "    modified_agents = modify_agents(check_category(agent_tuple))\n",
    "    print('new', modified_agents)\n"
   ]
  },
  {
   "cell_type": "code",
   "execution_count": null,
   "metadata": {},
   "outputs": [],
   "source": [
    "for agent in data0:\n",
    "    agent.category = modified_agents"
   ]
  },
  {
   "cell_type": "code",
   "execution_count": 218,
   "metadata": {},
   "outputs": [
    {
     "data": {
      "text/plain": [
       "[<Condition.HEALTHY: 2>, <Condition.CURE: 1>]"
      ]
     },
     "execution_count": 218,
     "metadata": {},
     "output_type": "execute_result"
    }
   ],
   "source": [
    "input_tuple = check_category(input)\n",
    "\n",
    "def sick_cure(agent_tuple):\n",
    "    agent_tuple[0] = Condition.HEALTHY\n",
    "    return agent_tuple\n",
    "\n",
    "sick_cure(input_tuple)"
   ]
  },
  {
   "cell_type": "code",
   "execution_count": 241,
   "metadata": {},
   "outputs": [
    {
     "data": {
      "text/plain": [
       "[<Condition.CURE: 1>, <Condition.HEALTHY: 2>]"
      ]
     },
     "execution_count": 241,
     "metadata": {},
     "output_type": "execute_result"
    }
   ],
   "source": [
    "input_tuple = check_category(input)\n",
    "input_tuple = [Condition.CURE, Condition.SICK]\n",
    "\n",
    "def cure_sick(agent_tuple):\n",
    "    agent_tuple[1] = Condition.HEALTHY\n",
    "    return agent_tuple\n",
    "\n",
    "cure_sick(input_tuple)"
   ]
  },
  {
   "cell_type": "code",
   "execution_count": 243,
   "metadata": {},
   "outputs": [
    {
     "data": {
      "text/plain": [
       "[<Condition.CURE: 1>, <Condition.SICK: 3>]"
      ]
     },
     "execution_count": 243,
     "metadata": {},
     "output_type": "execute_result"
    }
   ],
   "source": [
    "input_tuple = [Condition.CURE, Condition.DYING]\n",
    "\n",
    "def cure_dying(agent_tuple):\n",
    "    agent_tuple[1] = Condition.SICK\n",
    "    return agent_tuple\n",
    "\n",
    "cure_dying(input_tuple)"
   ]
  },
  {
   "cell_type": "code",
   "execution_count": 242,
   "metadata": {},
   "outputs": [
    {
     "data": {
      "text/plain": [
       "[<Condition.SICK: 3>, <Condition.CURE: 1>]"
      ]
     },
     "execution_count": 242,
     "metadata": {},
     "output_type": "execute_result"
    }
   ],
   "source": [
    "input_tuple = [Condition.DYING, Condition.CURE]\n",
    "\n",
    "def dying_cure(agent_tuple):\n",
    "    agent_tuple[0] = Condition.SICK\n",
    "    return agent_tuple\n",
    "\n",
    "dying_cure(input_tuple)"
   ]
  },
  {
   "cell_type": "code",
   "execution_count": 251,
   "metadata": {},
   "outputs": [
    {
     "name": "stdout",
     "output_type": "stream",
     "text": [
      "[<Condition.SICK: 3>, <Condition.CURE: 1>]\n"
     ]
    },
    {
     "data": {
      "text/plain": [
       "(<Condition.HEALTHY: 2>, <Condition.HEALTHY: 2>)"
      ]
     },
     "execution_count": 251,
     "metadata": {},
     "output_type": "execute_result"
    }
   ],
   "source": [
    "input_tuple = [Condition.SICK, Condition.SICK]\n",
    "\n",
    "def sick_sick(agent_tuple):\n",
    "    agent_tuple = (Condition.DYING, Condition.DYING)\n",
    "    return agent_tuple\n",
    "\n",
    "sick_sick(input_tuple)"
   ]
  },
  {
   "cell_type": "code",
   "execution_count": 244,
   "metadata": {},
   "outputs": [
    {
     "data": {
      "text/plain": [
       "[<Condition.CURE: 1>, <Condition.CURE: 1>]"
      ]
     },
     "execution_count": 244,
     "metadata": {},
     "output_type": "execute_result"
    }
   ],
   "source": [
    "input_tuple = check_category(input)\n",
    "input_tuple = [Condition.CURE, Condition.CURE]\n",
    "\n",
    "def cure_cure(agent_tuple):\n",
    "    return agent_tuple\n",
    "\n",
    "cure_cure(input_tuple)"
   ]
  },
  {
   "cell_type": "code",
   "execution_count": 312,
   "metadata": {},
   "outputs": [
    {
     "name": "stdout",
     "output_type": "stream",
     "text": [
      "[<Condition.SICK: 3>, <Condition.DYING: 4>]\n",
      "(<Condition.DYING: 4>, <Condition.DEAD: 5>)\n"
     ]
    }
   ],
   "source": [
    "input_tuple1 = (Condition.SICK, Condition.DYING)\n",
    "input_tuple2 = (Condition.DYING, Condition.SICK)\n",
    "input_tuple3 = (Condition.SICK, Condition.SICK)\n",
    "\n",
    "datasickdying = (Agent(\"Vaccine\", Condition.SICK),\n",
    "    Agent(\"Darlene\", Condition.DYING))\n",
    "\n",
    "sickdyingtuple = check_category(datasickdying)\n",
    "print(sickdyingtuple)\n",
    "\n",
    "def sick_dying(agent_tuple):\n",
    "    if agent_tuple[0] == Condition.SICK and agent_tuple[1] == Condition.DYING:\n",
    "        agent_tuple = (Condition.DYING, Condition.DEAD)\n",
    "        return agent_tuple\n",
    "    elif agent_tuple[0] == Condition.DYING and agent_tuple[1] == Condition.SICK:\n",
    "        agent_tuple = (Condition.DEAD, Condition.DYING)\n",
    "        return agent_tuple\n",
    "    else:\n",
    "        print('wrong input')\n",
    "        return agent_tuple\n",
    "\n",
    "\n",
    "#print(sick_dying(input_tuple1))\n",
    "#print(sick_dying(input_tuple2))\n",
    "#print(sick_dying(input_tuple3))\n",
    "print(sick_dying(sickdyingtuple))"
   ]
  },
  {
   "cell_type": "code",
   "execution_count": 247,
   "metadata": {},
   "outputs": [
    {
     "data": {
      "text/plain": [
       "[<Condition.CURE: 1>, <Condition.CURE: 1>]"
      ]
     },
     "execution_count": 247,
     "metadata": {},
     "output_type": "execute_result"
    }
   ],
   "source": [
    "def modify_agents(input_tuple):\n",
    "    if input_tuple == [Condition.CURE, Condition.SICK]:\n",
    "        cure_sick(input_tuple)\n",
    "    elif input_tuple == [Condition.SICK, Condition.CURE]:\n",
    "        sick_cure(input_tuple)\n",
    "    elif input_tuple == [Condition.CURE, Condition.DYING]:\n",
    "        cure_dying(input_tuple)\n",
    "    elif input_tuple == [Condition.DYING, Condition.CURE]:\n",
    "        dying_cure(input_tuple)\n",
    "    elif input_tuple == [Condition.SICK, Condition.SICK]:\n",
    "        sick_sick(input_tuple)\n",
    "    elif input_tuple == [Condition.CURE, Condition.CURE]:\n",
    "        cure_cure(input_tuple)\n",
    "    elif input_tuple == [Condition.SICK, Condition.DYING] or input_tuple == [Condition.DYING, Condition.SICK]:\n",
    "        sick_dying(input_tuple)\n",
    "    else:\n",
    "        print('none')\n",
    "    return input_tuple\n",
    "\n",
    "\n",
    "modify_agents(input_tuple)"
   ]
  },
  {
   "cell_type": "code",
   "execution_count": 250,
   "metadata": {},
   "outputs": [
    {
     "name": "stdout",
     "output_type": "stream",
     "text": [
      "(Agent(name='Adam', category=<Condition.SICK: 3>), Agent(name='Cure0', category=<Condition.CURE: 1>))\n",
      "(Agent(name='Adam', category=<Condition.SICK: 3>), Agent(name='Cure0', category=<Condition.CURE: 1>))\n",
      "(Agent(name='Cure1', category=<Condition.CURE: 1>), Agent(name='Charlie', category=<Condition.DYING: 4>))\n",
      "(Agent(name='Cure1', category=<Condition.CURE: 1>), Agent(name='Charlie', category=<Condition.DYING: 4>))\n",
      "(Agent(name='Vaccine', category=<Condition.SICK: 3>), Agent(name='Darlene', category=<Condition.DYING: 4>))\n",
      "none\n",
      "(Agent(name='Vaccine', category=<Condition.SICK: 3>), Agent(name='Darlene', category=<Condition.DYING: 4>))\n",
      "(Agent(name='Emma', category=<Condition.SICK: 3>), Agent(name='Cure2', category=<Condition.CURE: 1>))\n",
      "(Agent(name='Emma', category=<Condition.SICK: 3>), Agent(name='Cure2', category=<Condition.CURE: 1>))\n"
     ]
    }
   ],
   "source": [
    "for agent_tuple in batched_agents:\n",
    "    print(agent_tuple)\n",
    "    modify_agents(check_category(agent_tuple))\n",
    "    print(agent_tuple)"
   ]
  },
  {
   "cell_type": "code",
   "execution_count": 236,
   "metadata": {},
   "outputs": [
    {
     "data": {
      "text/plain": [
       "(<Condition.DEAD: 5>, <Condition.DEAD: 5>)"
      ]
     },
     "execution_count": 236,
     "metadata": {},
     "output_type": "execute_result"
    }
   ],
   "source": [
    "input_tuple = check_category(input)\n",
    "\n",
    "def dying_dying(agent_tuple):\n",
    "    agent_tuple = (Condition.DEAD, Condition.DEAD)\n",
    "    return agent_tuple\n",
    "\n",
    "dying_dying(input_tuple)"
   ]
  },
  {
   "cell_type": "code",
   "execution_count": 214,
   "metadata": {},
   "outputs": [
    {
     "name": "stdout",
     "output_type": "stream",
     "text": [
      "[<Condition.HEALTHY: 2>, <Condition.CURE: 1>]\n"
     ]
    }
   ],
   "source": [
    "input_tuple = check_category(input)\n",
    "#input_tuple[0].category = Condition.CURE\n",
    "#input_tuple[1].category = Condition.CURE\n",
    "if input_tuple[0] == Condition.SICK:\n",
    "    if input_tuple[1] == Condition.CURE:\n",
    "        input_tuple[0] = Condition.HEALTHY\n",
    "        print(input_tuple)\n",
    "# if input_tuple[0] == Condition.CURE:\n",
    "#     if input_tuple[1] == Condition.CURE:\n",
    "        "
   ]
  },
  {
   "cell_type": "code",
   "execution_count": 211,
   "metadata": {},
   "outputs": [
    {
     "name": "stdout",
     "output_type": "stream",
     "text": [
      "[<Condition.SICK: 3>, <Condition.CURE: 1>]\n",
      "Condition.SICK\n",
      "<enum 'Condition'>\n",
      "True\n",
      "Condition.DYING\n",
      "False\n",
      "Condition.DYING\n",
      "Condition.CURE\n"
     ]
    }
   ],
   "source": [
    "input_tuple = check_category(input)\n",
    "print(input_tuple)\n",
    "print(input_tuple[0])\n",
    "print(type(input_tuple[0]))\n",
    "print(input_tuple[0] == Condition.SICK)\n",
    "input_tuple[0].category = Condition.DYING\n",
    "print(input_tuple[0].category)\n",
    "#print(input_tuple[0]._replace(category = Condition.DYING))\n",
    "#modified_tuple = input_tuple[0]._replace(category = Condition.DYING)\n",
    "#print(input_tuple[0].category)\n",
    "print(input_tuple[0] == Condition.DYING)\n",
    "print(input_tuple[0].category)\n",
    "print(input_tuple[1])\n"
   ]
  },
  {
   "cell_type": "code",
   "execution_count": 15,
   "metadata": {},
   "outputs": [
    {
     "name": "stdout",
     "output_type": "stream",
     "text": [
      "Cure0 Condition.CURE\n",
      "Cure1 Condition.CURE\n",
      "Cure2 Condition.CURE\n"
     ]
    }
   ],
   "source": [
    "for Agent in data0:\n",
    "    if Agent.category == Condition.CURE:\n",
    "        print(Agent.name, Agent.category)\n",
    "    if Agent.category == Condition.SICK:\n",
    "        print(Agent.name, Agent.category)"
   ]
  },
  {
   "cell_type": "code",
   "execution_count": 17,
   "metadata": {},
   "outputs": [
    {
     "name": "stdout",
     "output_type": "stream",
     "text": [
      "3\n"
     ]
    }
   ],
   "source": [
    "count = 0\n",
    "for Agent in data0:\n",
    "    if Agent.category == Condition.CURE:\n",
    "        curecount = count + (data0.count(Agent))\n",
    "    if Agent.category == Condition.SICK:\n",
    "        sickcount = count + (data0.count(Agent))\n",
    "\n",
    "print(count)"
   ]
  },
  {
   "cell_type": "code",
   "execution_count": 32,
   "metadata": {},
   "outputs": [
    {
     "name": "stdout",
     "output_type": "stream",
     "text": [
      "3 3 1 2 1\n",
      "cure_count: 3 \n",
      "sick_count: 3 \n",
      "dead_count: 1 \n",
      "dying_count: 2 \n",
      "healthy_count: 1\n"
     ]
    }
   ],
   "source": [
    "cure_count = sum(agent.category == Condition.CURE for agent in data0)\n",
    "sick_count = sum(agent.category == Condition.SICK for agent in data0)\n",
    "dead_count = sum(agent.category == Condition.DEAD for agent in data0)\n",
    "dying_count = sum(agent.category == Condition.DYING for agent in data0)\n",
    "healthy_count = sum(agent.category == Condition.HEALTHY for agent in data0)\n",
    "\n",
    "print(cure_count, sick_count, dead_count, dying_count, healthy_count)\n",
    "print('cure_count:', cure_count,'\\n' 'sick_count:', sick_count,'\\n' 'dead_count:', dead_count,'\\n' 'dying_count:', dying_count,'\\n' 'healthy_count:', healthy_count)"
   ]
  },
  {
   "cell_type": "code",
   "execution_count": 163,
   "metadata": {},
   "outputs": [
    {
     "name": "stdout",
     "output_type": "stream",
     "text": [
      "(Agent(name='Adam', category=<Condition.SICK: 3>), Agent(name='Cure0', category=<Condition.CURE: 1>), Agent(name='Cure1', category=<Condition.CURE: 1>), Agent(name='Charlie', category=<Condition.DYING: 4>), Agent(name='Vaccine', category=<Condition.SICK: 3>), Agent(name='Darlene', category=<Condition.DYING: 4>), Agent(name='Emma', category=<Condition.SICK: 3>), Agent(name='Cure2', category=<Condition.CURE: 1>))\n"
     ]
    }
   ],
   "source": []
  },
  {
   "cell_type": "code",
   "execution_count": 65,
   "metadata": {},
   "outputs": [
    {
     "name": "stdout",
     "output_type": "stream",
     "text": [
      "(Agent(name='Adam', category=<Condition.SICK: 3>), Agent(name='Cure0', category=<Condition.CURE: 1>), Agent(name='Cure1', category=<Condition.CURE: 1>), Agent(name='Charlie', category=<Condition.DYING: 4>), Agent(name='Vaccine', category=<Condition.SICK: 3>), Agent(name='Darlene', category=<Condition.DYING: 4>), Agent(name='Emma', category=<Condition.SICK: 3>), Agent(name='Cure2', category=<Condition.CURE: 1>))\n",
      "Agent(name='Adam', category=<Condition.SICK: 3>) Agent(name='Cure0', category=<Condition.CURE: 1>) 0\n",
      "Agent(name='Cure0', category=<Condition.CURE: 1>) Agent(name='Cure1', category=<Condition.CURE: 1>) 1\n",
      "Agent(name='Cure1', category=<Condition.CURE: 1>) Agent(name='Charlie', category=<Condition.DYING: 4>) 2\n",
      "Agent(name='Charlie', category=<Condition.SICK: 3>)\n",
      "Agent(name='Vaccine', category=<Condition.SICK: 3>) Agent(name='Darlene', category=<Condition.DYING: 4>) 4\n",
      "Agent(name='Darlene', category=<Condition.DYING: 4>) Agent(name='Emma', category=<Condition.SICK: 3>) 5\n",
      "Agent(name='Emma', category=<Condition.SICK: 3>) Agent(name='Cure2', category=<Condition.CURE: 1>) 6\n"
     ]
    },
    {
     "ename": "IndexError",
     "evalue": "tuple index out of range",
     "output_type": "error",
     "traceback": [
      "\u001b[0;31m---------------------------------------------------------------------------\u001b[0m",
      "\u001b[0;31mIndexError\u001b[0m                                Traceback (most recent call last)",
      "Cell \u001b[0;32mIn[65], line 6\u001b[0m\n\u001b[1;32m      4\u001b[0m \u001b[38;5;28;01mfor\u001b[39;00m Agent \u001b[38;5;129;01min\u001b[39;00m filtered_agents:\n\u001b[1;32m      5\u001b[0m     current_agent \u001b[38;5;241m=\u001b[39m filtered_agents[i]\n\u001b[0;32m----> 6\u001b[0m     next_agent \u001b[38;5;241m=\u001b[39m \u001b[43mfiltered_agents\u001b[49m\u001b[43m[\u001b[49m\u001b[43mi\u001b[49m\u001b[38;5;241;43m+\u001b[39;49m\u001b[38;5;241;43m1\u001b[39;49m\u001b[43m]\u001b[49m\n\u001b[1;32m      7\u001b[0m     \u001b[38;5;28mprint\u001b[39m(current_agent, next_agent, i)\n\u001b[1;32m      8\u001b[0m     \u001b[38;5;28;01mif\u001b[39;00m current_agent\u001b[38;5;241m.\u001b[39mcategory \u001b[38;5;241m==\u001b[39m Condition\u001b[38;5;241m.\u001b[39mCURE:\n",
      "\u001b[0;31mIndexError\u001b[0m: tuple index out of range"
     ]
    }
   ],
   "source": [
    "i = 0\n",
    "print(filtered_agents)\n",
    "modified_agents = []\n",
    "for Agent in filtered_agents:\n",
    "    current_agent = filtered_agents[i]\n",
    "    next_agent = filtered_agents[i+1]\n",
    "    print(current_agent, next_agent, i)\n",
    "    if current_agent.category == Condition.CURE:\n",
    "        if next_agent.category == Condition.CURE:\n",
    "            i += 1\n",
    "            continue\n",
    "        elif next_agent.category == Condition.SICK:\n",
    "            modified_agent = next_agent._replace(category = Condition.HEALTHY)\n",
    "            print(modified_agent)\n",
    "            i += 1\n",
    "        elif next_agent.category == Condition.DYING:\n",
    "            modified_agent = next_agent._replace(category = Condition.SICK)\n",
    "            print(modified_agent)\n",
    "            i += 1\n",
    "        else:\n",
    "            i += 1\n",
    "            continue\n",
    "    i += 1\n",
    "    #modified_agents.append(modified_agent)\n",
    "\n",
    "print(modified_agents)\n",
    "    # elif Agent.condition == Condition.SICK:\n",
    "    #     if next_agent.condition == Condition.CURE:\n",
    "    #         Agent.condition = Agent.replace(condition = Condition.HEALTHY)\n",
    "\n"
   ]
  },
  {
   "cell_type": "code",
   "execution_count": 125,
   "metadata": {},
   "outputs": [
    {
     "name": "stdout",
     "output_type": "stream",
     "text": [
      "[(Agent(name='Adam', category=<Condition.SICK: 3>), Agent(name='Cure0', category=<Condition.CURE: 1>)), (Agent(name='Cure1', category=<Condition.CURE: 1>), Agent(name='Charlie', category=<Condition.DYING: 4>)), (Agent(name='Vaccine', category=<Condition.SICK: 3>), Agent(name='Darlene', category=<Condition.DYING: 4>)), (Agent(name='Emma', category=<Condition.SICK: 3>), Agent(name='Cure2', category=<Condition.CURE: 1>))]\n",
      "<class 'tuple'>\n",
      "Agent(name='Adam', category=<Condition.SICK: 3>)\n",
      "Condition.SICK\n",
      "True\n",
      "(Agent(name='Adam', category=<Condition.SICK: 3>), Agent(name='Cure0', category=<Condition.CURE: 1>))\n",
      "Condition.CURE\n",
      "True\n"
     ]
    }
   ],
   "source": [
    "import itertools\n",
    "batched_agents = list(itertools.batched(filtered_agents, n=2))\n",
    "print(batched_agents)\n",
    "print(type(batched_agents[0]))\n",
    "print(batched_agents[0][0])\n",
    "print(batched_agents[0][0].category)\n",
    "print(batched_agents[0][0].category == Condition.SICK)\n",
    "print(batched_agents[0])\n",
    "print(batched_agents[0][1].category)\n",
    "print(batched_agents[0][1].category == Condition.CURE)"
   ]
  },
  {
   "cell_type": "code",
   "execution_count": 100,
   "metadata": {},
   "outputs": [
    {
     "name": "stdout",
     "output_type": "stream",
     "text": [
      "(Agent(name='Adam', category=<Condition.SICK: 3>), Agent(name='Cure0', category=<Condition.CURE: 1>))\n",
      "different\n"
     ]
    }
   ],
   "source": [
    "print(batched_agents[0])\n",
    "if batched_agents[0][0].category == batched_agents[0][1].category:\n",
    "    print('same')\n",
    "else:\n",
    "    print('different')"
   ]
  },
  {
   "cell_type": "code",
   "execution_count": 127,
   "metadata": {},
   "outputs": [
    {
     "name": "stdout",
     "output_type": "stream",
     "text": [
      "Agent(name='Adam', category=<Condition.SICK: 3>) Agent(name='Cure0', category=<Condition.CURE: 1>)\n",
      "Condition.SICK\n",
      "True\n",
      "SICK\n",
      "(Agent(name='Adam', category=<Condition.HEALTHY: 2>), Agent(name='Cure0', category=<Condition.CURE: 1>))\n"
     ]
    }
   ],
   "source": [
    "#def modify_agent(agent_tuple):\n",
    "print(batched_agents[0][0], batched_agents[0][1])\n",
    "print(batched_agents[0][0].category)\n",
    "print(batched_agents[0][0].category == Condition.SICK)\n",
    "if batched_agents[0][0].category == Condition.SICK:\n",
    "    print('SICK')\n",
    "    if batched_agents[0][1].category == Condition.CURE:\n",
    "        modified_tuple = (batched_agents[0][0]._replace(category = Condition.HEALTHY), batched_agents[0][1])\n",
    "        print(modified_tuple)\n",
    "       # elif batched_agents[0][1].category == Condition.DYING:\n"
   ]
  },
  {
   "cell_type": "code",
   "execution_count": 132,
   "metadata": {},
   "outputs": [
    {
     "name": "stdout",
     "output_type": "stream",
     "text": [
      "(Agent(name='Adam', category=<Condition.HEALTHY: 2>), Agent(name='Cure0', category=<Condition.CURE: 1>))\n"
     ]
    }
   ],
   "source": [
    "\n",
    "\n",
    "def modify_agent(agents_list):\n",
    "    if agents_list[0][0].category == Condition.SICK:\n",
    "        if agents_list[0][1].category == Condition.CURE:\n",
    "            modified_tuple = (agents_list[0][0]._replace(category = Condition.HEALTHY), agents_list[0][1])\n",
    "            print(modified_tuple)\n",
    "        elif batched_agents[0][1].category == Condition.DYING:\n",
    "            modified_tuple = (agents_list[0][0]._replace(category = Condition.DYING), agents_list[0][1]._replace(category = Condition.DEAD))\n",
    "            print(modified_tuple)\n",
    "\n",
    "\n",
    "modify_agent(batched_agents)"
   ]
  },
  {
   "cell_type": "code",
   "execution_count": 135,
   "metadata": {},
   "outputs": [
    {
     "name": "stdout",
     "output_type": "stream",
     "text": [
      "Condition.SICK Condition.CURE\n",
      "Condition.CURE Condition.DYING\n",
      "Condition.SICK Condition.DYING\n",
      "Condition.SICK Condition.CURE\n"
     ]
    }
   ],
   "source": [
    "for agent_tuple in batched_agents:\n",
    "    categories = [agent.category for agent in agent_tuple]\n",
    "    print(categories[0], categories[1])\n"
   ]
  },
  {
   "cell_type": "code",
   "execution_count": 167,
   "metadata": {},
   "outputs": [
    {
     "data": {
      "text/plain": [
       "[<Condition.SICK: 3>, <Condition.CURE: 1>]"
      ]
     },
     "execution_count": 167,
     "metadata": {},
     "output_type": "execute_result"
    }
   ],
   "source": [
    "\n"
   ]
  },
  {
   "cell_type": "code",
   "execution_count": 191,
   "metadata": {},
   "outputs": [
    {
     "name": "stdout",
     "output_type": "stream",
     "text": [
      "[<Condition.SICK: 3>, <Condition.CURE: 1>]\n",
      "Condition.SICK\n",
      "<enum 'Condition'>\n",
      "False\n",
      "False\n",
      "Condition.SICK\n",
      "Condition.CURE\n"
     ]
    }
   ],
   "source": [
    "\n",
    "# if input_tuple[0] == Condition.SICK:\n",
    "    "
   ]
  }
 ],
 "metadata": {
  "kernelspec": {
   "display_name": "Python 3",
   "language": "python",
   "name": "python3"
  },
  "language_info": {
   "codemirror_mode": {
    "name": "ipython",
    "version": 3
   },
   "file_extension": ".py",
   "mimetype": "text/x-python",
   "name": "python",
   "nbconvert_exporter": "python",
   "pygments_lexer": "ipython3",
   "version": "3.12.0"
  }
 },
 "nbformat": 4,
 "nbformat_minor": 2
}
