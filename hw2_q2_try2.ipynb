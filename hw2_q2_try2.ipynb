{
 "cells": [
  {
   "cell_type": "code",
   "execution_count": 44,
   "metadata": {},
   "outputs": [],
   "source": [
    "from collections import namedtuple\n",
    "from enum import Enum\n",
    "import itertools\n",
    "\n",
    "Condition = Enum(\"Condition\", (\"CURE\", \"HEALTHY\", \"SICK\", \"DYING\", \"DEAD\"))\n",
    "Agent = namedtuple(\"Agent\", (\"name\", \"category\"))\n",
    "\n",
    "data0 = (\n",
    "    Agent(\"Adam\", Condition.SICK),\n",
    "    Agent(\"Cure0\", Condition.CURE),\n",
    "    Agent(\"Cure1\", Condition.CURE),\n",
    "    Agent(\"Bob\", Condition.HEALTHY),\n",
    "    Agent(\"Alice\", Condition.DEAD),\n",
    "    Agent(\"Charlie\", Condition.DYING),\n",
    "    Agent(\"Vaccine\", Condition.SICK),\n",
    "    Agent(\"Darlene\", Condition.DYING),\n",
    "    Agent(\"Emma\", Condition.SICK),\n",
    "    Agent(\"Cure2\", Condition.CURE),\n",
    ")\n",
    "\n",
    "def filter_agents(data):\n",
    "    filtered_agents = tuple(agent for agent in data if agent.category != Condition.HEALTHY and agent.category != Condition.DEAD)\n",
    "    return filtered_agents\n",
    "def batch_agents(data,n):\n",
    "    batched_agents = list(itertools.batched(data, n))\n",
    "    return batched_agents\n",
    "\n",
    "def check_category(agent_tuple):\n",
    "    categories = [agent.category for agent in agent_tuple]\n",
    "    return categories"
   ]
  },
  {
   "cell_type": "code",
   "execution_count": 45,
   "metadata": {},
   "outputs": [],
   "source": [
    "def check_category(agent_tuple):\n",
    "    categories = [agent.category for agent in agent_tuple]\n",
    "    return (agent_tuple, categories)\n",
    "\n",
    "batched_agents = batch_agents(data0, 2)\n",
    "agent_categories = check_category(batched_agents[0])"
   ]
  },
  {
   "cell_type": "code",
   "execution_count": 38,
   "metadata": {},
   "outputs": [
    {
     "name": "stdout",
     "output_type": "stream",
     "text": [
      "(Agent(name='Adam', category=<Condition.HEALTHY: 2>), Agent(name='Cure0', category=<Condition.CURE: 1>), [<Condition.SICK: 3>, <Condition.CURE: 1>])\n"
     ]
    },
    {
     "data": {
      "text/plain": [
       "(Agent(name='Adam', category=<Condition.HEALTHY: 2>),\n",
       " Agent(name='Cure0', category=<Condition.CURE: 1>),\n",
       " [<Condition.SICK: 3>, <Condition.CURE: 1>])"
      ]
     },
     "execution_count": 38,
     "metadata": {},
     "output_type": "execute_result"
    }
   ],
   "source": [
    "\n",
    "def sick_cure(agent_tuple):\n",
    "    new_agent = Agent(agent_tuple[0][0].name, Condition.HEALTHY)\n",
    "    new_tuple = (new_agent, agent_tuple[0][1], agent_tuple[1])\n",
    "    print(new_tuple)\n",
    "    return new_tuple\n",
    "\n",
    "sick_cure(agent_categories)"
   ]
  },
  {
   "cell_type": "code",
   "execution_count": 43,
   "metadata": {},
   "outputs": [
    {
     "name": "stdout",
     "output_type": "stream",
     "text": [
      "(Agent(name='Adam', category=<Condition.HEALTHY: 2>), Agent(name='Cure0', category=<Condition.CURE: 1>), [<Condition.SICK: 3>, <Condition.CURE: 1>])\n"
     ]
    }
   ],
   "source": [
    "def modify_agents(input_tuple):\n",
    "    if input_tuple[1] == [Condition.SICK, Condition.CURE]:\n",
    "        new_tuple = sick_cure(input_tuple)\n",
    "        return new_tuple\n",
    "    else:\n",
    "        print('none')\n",
    "\n",
    "mod_ag = modify_agents(agent_categories)\n"
   ]
  },
  {
   "cell_type": "code",
   "execution_count": 48,
   "metadata": {},
   "outputs": [],
   "source": [
    "def sick_cure(input_tuple):\n",
    "    new_agent = Agent(input_tuple[0][0].name, Condition.HEALTHY)\n",
    "    new_tuple = (new_agent, input_tuple[0][1])\n",
    "    return new_tuple\n",
    "def cure_sick(input_tuple):\n",
    "    new_agent = Agent(input_tuple[0][1].name, Condition.HEALTHY)\n",
    "    new_tuple = (input_tuple[0][0], new_agent)\n",
    "    return new_tuple\n",
    "def cure_dying(input_tuple):\n",
    "    new_agent = Agent(input_tuple[0][1].name, Condition.SICK)\n",
    "    new_tuple = (input_tuple[0][0], new_agent)\n",
    "    return new_tuple\n",
    "def dying_cure(input_tuple):\n",
    "    new_agent = Agent(input_tuple[0][0].name, Condition.SICK)\n",
    "    new_tuple = (new_agent, input_tuple[0][1])\n",
    "    return new_tuple\n",
    "def sick_sick(input_tuple):\n",
    "    new_agent1, new_agent2 = Agent(input_tuple[0][0].name, Condition.DYING), Agent(input_tuple[0][1].name, Condition.DYING)\n",
    "    new_tuple = (new_agent1, new_agent2)\n",
    "    return new_tuple\n",
    "def cure_cure(input_tuple):\n",
    "    return input_tuple[0]\n",
    "def sick_dying(input_tuple):\n",
    "    if input_tuple[0][0] == Condition.SICK and input_tuple[0][1] == Condition.DYING:\n",
    "        new_agent1, new_agent2 = Agent(input_tuple[0][0].name, Condition.DYING), Agent(input_tuple[0][1].name, Condition.DEAD)\n",
    "        new_tuple = (new_agent1, new_agent2)\n",
    "        return new_tuple\n",
    "    elif input_tuple[0][0] == Condition.DYING and input_tuple[0][1] == Condition.SICK:\n",
    "        new_agent1, new_agent2 = Agent(input_tuple[0][0].name, Condition.DEAD), Agent(input_tuple[0][1].name, Condition.DYING)\n",
    "        new_tuple = (new_agent1, new_agent2)\n",
    "        return new_tuple"
   ]
  },
  {
   "cell_type": "code",
   "execution_count": 49,
   "metadata": {},
   "outputs": [
    {
     "data": {
      "text/plain": [
       "(Agent(name='Adam', category=<Condition.HEALTHY: 2>),\n",
       " Agent(name='Cure0', category=<Condition.CURE: 1>))"
      ]
     },
     "execution_count": 49,
     "metadata": {},
     "output_type": "execute_result"
    }
   ],
   "source": [
    "\n",
    "def modify_agents(input_tuple):\n",
    "    if input_tuple[1] == [Condition.SICK, Condition.CURE]:\n",
    "        new_tuple = sick_cure(input_tuple)\n",
    "        return new_tuple\n",
    "    elif input_tuple[1] == [Condition.CURE, Condition.SICK]:\n",
    "        new_tuple = cure_sick(input_tuple)\n",
    "        return new_tuple\n",
    "    elif input_tuple[1] == [Condition.CURE, Condition.DYING]:\n",
    "        new_tuple = cure_dying(input_tuple)\n",
    "        return new_tuple\n",
    "    elif input_tuple[1] == [Condition.DYING, Condition.CURE]:\n",
    "        new_tuple = dying_cure(input_tuple)\n",
    "        return new_tuple\n",
    "    elif input_tuple[1] == [Condition.SICK, Condition.SICK]:\n",
    "        new_tuple = sick_sick(input_tuple)\n",
    "        return new_tuple\n",
    "    elif input_tuple[1] == [Condition.CURE, Condition.CURE]:\n",
    "        new_tuple = cure_cure(input_tuple)\n",
    "        return new_tuple\n",
    "    elif input_tuple[1] == [Condition.SICK, Condition.DYING] or input_tuple == [Condition.DYING, Condition.SICK]:\n",
    "        new_tuple = sick_dying(input_tuple)\n",
    "        return new_tuple\n",
    "    else:\n",
    "        print('none')\n",
    "    \n",
    "\n",
    "modify_agents(agent_categories)"
   ]
  },
  {
   "cell_type": "code",
   "execution_count": 52,
   "metadata": {},
   "outputs": [
    {
     "name": "stdout",
     "output_type": "stream",
     "text": [
      "none\n",
      "none\n",
      "[(Agent(name='Adam', category=<Condition.HEALTHY: 2>), Agent(name='Cure0', category=<Condition.CURE: 1>)), None, None, None, (Agent(name='Emma', category=<Condition.HEALTHY: 2>), Agent(name='Cure2', category=<Condition.CURE: 1>))]\n"
     ]
    }
   ],
   "source": [
    "modified_agents = []\n",
    "for agent_tuple in batched_agents:\n",
    "    modified_agents.append(modify_agents(check_category(agent_tuple)))\n",
    "print(modified_agents)"
   ]
  }
 ],
 "metadata": {
  "kernelspec": {
   "display_name": "Python 3",
   "language": "python",
   "name": "python3"
  },
  "language_info": {
   "codemirror_mode": {
    "name": "ipython",
    "version": 3
   },
   "file_extension": ".py",
   "mimetype": "text/x-python",
   "name": "python",
   "nbconvert_exporter": "python",
   "pygments_lexer": "ipython3",
   "version": "3.12.0"
  }
 },
 "nbformat": 4,
 "nbformat_minor": 2
}
